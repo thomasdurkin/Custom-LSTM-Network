{
 "cells": [
  {
   "cell_type": "markdown",
   "id": "54e2a29d",
   "metadata": {},
   "source": [
    "1. Make sure you fill in all cells contain YOUR CODE HERE or YOUR ANSWER HERE.\n",
    "2. After you finished, Restart the kernel & run all cell in order."
   ]
  },
  {
   "cell_type": "markdown",
   "id": "4c07553a",
   "metadata": {},
   "source": [
    "# Project II: Text Classification Using LSTM Network\n",
    "## Deadline: Nov 14, 11:59 pm\n",
    "\n",
    "You have learned about the basics of neural network training and testing during the class. Now let's move forward to the text classification tasks using simple LSTM networks! In this project, you need to implement two parts:\n",
    "\n",
    "- **Part I: Building vocabulary for LSTM network**\n",
    "    - Get familiar with discrete text data processing for neural networks. Building vocabulary by yourself.\n",
    "\n",
    "\n",
    "- **Part II: Implementing your own LSTM Neural Network**\n",
    "    - Learn to implement your own LSTM network and aims for a strong performance on the given text classification task.\n",
    "    - Note that you need to implement the LSTM network manually, any kind of integrated package invoking will get 0 points.\n",
    "    - Your LSTM network can be 2-4 layers.\n",
    "    - Expected Accuracy: >=65%.\n",
    "    ![](./LSTM.png)\n",
    "    \n",
    "\n",
    "Let's get started!"
   ]
  },
  {
   "cell_type": "code",
   "execution_count": 1,
   "id": "abbbc2b8",
   "metadata": {},
   "outputs": [],
   "source": [
    "import torch\n",
    "import pandas as pd\n",
    "\n",
    "# nlp library of Pytorch\n",
    "from torchtext import data\n",
    "#from torchtext.legacy import data\n",
    "#from torchtext.legacy import data\n",
    "#from torchtext.legacy import datasets\n",
    "\n",
    "import warnings as wrn\n",
    "wrn.filterwarnings('ignore')\n",
    "SEED = 2021\n",
    "\n",
    "torch.manual_seed(SEED)\n",
    "torch.backends.cuda.deterministic = True"
   ]
  },
  {
   "cell_type": "code",
   "execution_count": 2,
   "id": "0bfaa96a",
   "metadata": {},
   "outputs": [
    {
     "name": "stdout",
     "output_type": "stream",
     "text": [
      "<class 'pandas.core.frame.DataFrame'>\n",
      "RangeIndex: 5574 entries, 0 to 5573\n",
      "Data columns (total 2 columns):\n",
      " #   Column  Non-Null Count  Dtype \n",
      "---  ------  --------------  ----- \n",
      " 0   type    5574 non-null   object\n",
      " 1   text    5574 non-null   object\n",
      "dtypes: object(2)\n",
      "memory usage: 87.2+ KB\n"
     ]
    }
   ],
   "source": [
    "data_ = pd.read_csv('./sms_spam.csv')\n",
    "data_.head()\n",
    "data_.info()"
   ]
  },
  {
   "cell_type": "code",
   "execution_count": 3,
   "id": "2d8c9956",
   "metadata": {},
   "outputs": [],
   "source": [
    "# Field is a normal column \n",
    "# LabelField is the label column.\n",
    "\n",
    "import spacy\n",
    "nlp = spacy.load(\"en_core_web_lg\")\n",
    "def tokenizer(text): # create a tokenizer function\n",
    "    return [tok.text for tok in nlp.tokenizer(text)]\n",
    "\n",
    "TEXT = data.Field(tokenize=tokenizer,batch_first=True,include_lengths=True)\n",
    "LABEL = data.LabelField(dtype = torch.float,batch_first=True)"
   ]
  },
  {
   "cell_type": "code",
   "execution_count": 4,
   "id": "7aac86da",
   "metadata": {},
   "outputs": [],
   "source": [
    "fields = [(\"type\",LABEL),('text',TEXT)]"
   ]
  },
  {
   "cell_type": "code",
   "execution_count": 5,
   "id": "866b193e",
   "metadata": {},
   "outputs": [
    {
     "name": "stdout",
     "output_type": "stream",
     "text": [
      "{'type': 'ham', 'text': ['Go', 'until', 'jurong', 'point', ',', 'crazy', '..', 'Available', 'only', 'in', 'bugis', 'n', 'great', 'world', 'la', 'e', 'buffet', '...', 'Cine', 'there', 'got', 'amore', 'wat', '...']}\n"
     ]
    }
   ],
   "source": [
    "training_data = data.TabularDataset(path=\"./sms_spam.csv\",\n",
    "                                    format=\"csv\",\n",
    "                                    fields=fields,\n",
    "                                    skip_header=True\n",
    "                                   )\n",
    "\n",
    "print(vars(training_data.examples[0]))"
   ]
  },
  {
   "cell_type": "code",
   "execution_count": 6,
   "id": "4e5945e2",
   "metadata": {},
   "outputs": [],
   "source": [
    "import random\n",
    "# train and validation splitting\n",
    "train_data,valid_data = training_data.split(split_ratio=0.75,\n",
    "                                            random_state=random.seed(SEED))"
   ]
  },
  {
   "cell_type": "markdown",
   "id": "c7e02735",
   "metadata": {},
   "source": [
    "#### Question 1 (5 points)\n",
    "Implement the vocabulary building and the text to label part for training."
   ]
  },
  {
   "cell_type": "code",
   "execution_count": 7,
   "id": "4f4505d2",
   "metadata": {},
   "outputs": [],
   "source": [
    "#implement Question1 here:\n",
    "#Building vocabularies => (Token to integer)\n",
    "#you can use the data package built-in function to build the vocabulary, check the 'torchtext data' doc.\n",
    "\n",
    "TEXT.build_vocab(train_data, min_freq = 2)\n",
    "LABEL.build_vocab(train_data, min_freq = 2)"
   ]
  },
  {
   "cell_type": "code",
   "execution_count": 8,
   "id": "80216804",
   "metadata": {},
   "outputs": [
    {
     "name": "stdout",
     "output_type": "stream",
     "text": [
      "Size of text vocab: 4364\n",
      "Size of label vocab: 2\n"
     ]
    },
    {
     "data": {
      "text/plain": [
       "[('.', 3658),\n",
       " ('to', 1615),\n",
       " ('I', 1478),\n",
       " (',', 1461),\n",
       " ('you', 1383),\n",
       " ('?', 1086),\n",
       " ('!', 1019),\n",
       " ('a', 1003),\n",
       " ('the', 882),\n",
       " ('...', 869)]"
      ]
     },
     "execution_count": 8,
     "metadata": {},
     "output_type": "execute_result"
    }
   ],
   "source": [
    "print(\"Size of text vocab:\",len(TEXT.vocab))\n",
    "print(\"Size of label vocab:\",len(LABEL.vocab))\n",
    "TEXT.vocab.freqs.most_common(10)\n"
   ]
  },
  {
   "cell_type": "code",
   "execution_count": 9,
   "id": "59e3e93d",
   "metadata": {},
   "outputs": [],
   "source": [
    "device = torch.device(\"cuda\")\n",
    "\n",
    "BATCH_SIZE = 64\n",
    "\n",
    "# We'll create iterators to get batches of data when we want to use them\n",
    "\"\"\"\n",
    "This BucketIterator batches the similar length of samples and reduces the need of \n",
    "padding tokens. This makes our future model more stable\n",
    "\n",
    "\"\"\"\n",
    "train_iterator,validation_iterator = data.BucketIterator.splits(\n",
    "    (train_data,valid_data),\n",
    "    batch_size = BATCH_SIZE,\n",
    "    # Sort key is how to sort the samples\n",
    "    sort_key = lambda x:len(x.text),\n",
    "    sort_within_batch = True,\n",
    "    device = device\n",
    ")"
   ]
  },
  {
   "cell_type": "markdown",
   "id": "b9acad1a",
   "metadata": {},
   "source": [
    "#### Question 2 (25 points)\n",
    "You need to implement the embedding layer and the LSTM cell according to the given architecture, but you are not allowed to use any integrated package!\n",
    "LSTM tutorial: https://colah.github.io/posts/2015-08-Understanding-LSTMs/\n",
    "![](./LSTM_CELL.png)"
   ]
  },
  {
   "cell_type": "code",
   "execution_count": 10,
   "id": "7a393448",
   "metadata": {},
   "outputs": [],
   "source": [
    "import torch.nn as nn\n",
    "import math\n",
    "\n",
    "class LSTMCell(nn.Module):\n",
    "    def __init__(self, input_size, hidden_size, bidirectional):\n",
    "        super().__init__()\n",
    "        self.input_size = input_size\n",
    "        self.hidden_size = hidden_size\n",
    "        self.bidirectional = bidirectional\n",
    "        self.setWeights(self.input_size, self.hidden_size)\n",
    "        \n",
    "    def setWeights(self, input_size, hidden_size):\n",
    "        # Input Gate\n",
    "        self.W_i = torch.rand(input_size, hidden_size).to(device)\n",
    "        self.U_i = torch.rand(hidden_size, hidden_size).to(device)\n",
    "        self.b_i = torch.rand(hidden_size).to(device)\n",
    "        \n",
    "        # Forget Gate\n",
    "        self.W_f = torch.rand(input_size, hidden_size).to(device)\n",
    "        self.U_f = torch.rand(hidden_size, hidden_size).to(device)\n",
    "        self.b_f = torch.rand(hidden_size).to(device)\n",
    "        \n",
    "        # Cell Gate\n",
    "        self.W_c = torch.rand(input_size, hidden_size).to(device)\n",
    "        self.U_c = torch.rand(hidden_size, hidden_size).to(device)\n",
    "        self.b_c = torch.rand(hidden_size).to(device)\n",
    "        \n",
    "        # Output Gate\n",
    "        self.W_o = torch.rand(input_size, hidden_size).to(device)\n",
    "        self.U_o = torch.rand(hidden_size, hidden_size).to(device)\n",
    "        self.b_o = torch.rand(hidden_size).to(device)\n",
    "        \n",
    "    def forward(self, x):\n",
    "        batch_size = x.size(0)\n",
    "        sequence_length = x.size(1)\n",
    "        hidden_sequence = []\n",
    "        \n",
    "        hx = torch.zeros(batch_size, self.hidden_size).to(device)\n",
    "        cx = torch.zeros(batch_size, self.hidden_size).to(device)            \n",
    "        \n",
    "        for t in range(sequence_length):\n",
    "            # Get sequence\n",
    "            x_t = x[:, t, :]\n",
    "        \n",
    "            # Equations for each gate\n",
    "            forget_gate = torch.sigmoid(torch.mm(x_t, self.W_f) + torch.mm(hx, self.U_f) + self.b_f)\n",
    "            input_gate = torch.sigmoid(torch.mm(x_t, self.W_i) + torch.mm(hx, self.U_i) + self.b_i)\n",
    "            cell_gate = torch.tanh(torch.mm(x_t, self.W_c) + torch.mm(hx, self.U_c) + self.b_c)\n",
    "            output_gate = torch.sigmoid(torch.mm(x_t, self.W_o) + torch.mm(hx, self.U_o) + self.b_o)\n",
    "            # Updated cell state and final output\n",
    "            cy = forget_gate * cx + input_gate * cell_gate\n",
    "            hy = output_gate * torch.tanh(cy)\n",
    "            \n",
    "            hy = hy.unsqueeze(0)\n",
    "            hidden_sequence.append(hy)\n",
    "\n",
    "        # If bidirectional reverse the sequence and continue to add new weights \n",
    "        if self.bidirectional:\n",
    "            self.setWeights(self.input_size, self.hidden_size)\n",
    "            hx = torch.zeros(batch_size, self.hidden_size).to(device)\n",
    "            cx = torch.zeros(batch_size, self.hidden_size).to(device)  \n",
    "            for t in range(sequence_length):\n",
    "                # Reverse Sequence\n",
    "                x_t = x[:, t, :].flip(1)\n",
    "\n",
    "                # Equations for each gate\n",
    "                forget_gate = torch.sigmoid(torch.mm(x_t, self.W_f) + torch.mm(hx, self.U_f) + self.b_f)\n",
    "                input_gate = torch.sigmoid(torch.mm(x_t, self.W_i) + torch.mm(hx, self.U_i) + self.b_i)\n",
    "                cell_gate = torch.tanh(torch.mm(x_t, self.W_c) + torch.mm(hx, self.U_c) + self.b_c)\n",
    "                output_gate = torch.sigmoid(torch.mm(x_t, self.W_o) + torch.mm(hx, self.U_o) + self.b_o)\n",
    "                # Updated cell state and final output\n",
    "                cy = forget_gate * cx + input_gate * cell_gate\n",
    "                hy = output_gate * torch.tanh(cy)\n",
    "                \n",
    "                hy = hy.unsqueeze(0)\n",
    "                hidden_sequence.append(hy)\n",
    "\n",
    "        hidden_sequence = torch.cat(hidden_sequence, 0)\n",
    "        hidden_sequence = hidden_sequence.transpose(0, 1)\n",
    "        return hidden_sequence"
   ]
  },
  {
   "cell_type": "code",
   "execution_count": 11,
   "id": "7f95b556",
   "metadata": {},
   "outputs": [],
   "source": [
    "class LSTMNet(nn.Module):\n",
    "    \n",
    "    def __init__(self,vocab_size,embedding_dim,hidden_dim,output_dim,n_layers,bidirectional,dropout):\n",
    "        super(LSTMNet,self).__init__()\n",
    "        # In this class, you need to implement the architecture of an LSTM network, the architecture should include:\n",
    "        \n",
    "        # 1. Embedding layer converts integer sequences to vector sequences\n",
    "        self.EmbeddedLayer = nn.Embedding(vocab_size, embedding_dim)\n",
    "\n",
    "        # 2. LSTM layer process the vector sequences \n",
    "        self.LSTMLayers = []\n",
    "        for i in range(n_layers):\n",
    "            if(i == 0):\n",
    "                if(bidirectional):\n",
    "                    self.LSTMLayers.append(nn.Sequential(nn.Dropout(p = dropout),\n",
    "                                                     LSTMCell(embedding_dim, 2*hidden_dim, bidirectional)))\n",
    "                else:\n",
    "                    self.LSTMLayers.append(nn.Sequential(nn.Dropout(p = dropout),\n",
    "                                                     LSTMCell(embedding_dim, hidden_dim, bidirectional)))\n",
    "            else:\n",
    "                if(bidirectional):\n",
    "                    self.LSTMLayers.append(nn.Sequential(nn.Dropout(p = dropout),\n",
    "                                                     LSTMCell(2*hidden_dim, 2*hidden_dim, bidirectional)))\n",
    "                else:\n",
    "                    self.LSTMLayers.append(nn.Sequential(nn.Dropout(p = dropout),\n",
    "                                                     LSTMCell(hidden_dim, hidden_dim, bidirectional)))\n",
    "\n",
    "        # 3. Dense layer to predict\n",
    "        if(bidirectional):\n",
    "            self.DenseLayer = nn.Linear(2 * hidden_dim, output_dim)\n",
    "        else:\n",
    "            self.DenseLayer = nn.Linear(hidden_dim, output_dim)\n",
    "\n",
    "        # 4. Prediction activation function (you can choose your own activate function e.g., ReLU, Sigmoid, Tanh)\n",
    "        self.ActivationLayer = nn.Sigmoid()\n",
    "        \n",
    "    def forward(self,text,text_lengths):\n",
    "        output = self.EmbeddedLayer(text)\n",
    "        for cell in self.LSTMLayers:\n",
    "            output = cell(output)\n",
    "        output = (output[:, -1, :])\n",
    "        output = self.DenseLayer(output)\n",
    "        output = self.ActivationLayer(output)\n",
    "        return output"
   ]
  },
  {
   "cell_type": "code",
   "execution_count": 12,
   "id": "888e86da",
   "metadata": {},
   "outputs": [],
   "source": [
    "SIZE_OF_VOCAB = len(TEXT.vocab)\n",
    "EMBEDDING_DIM = 300\n",
    "NUM_HIDDEN_NODES = 64\n",
    "NUM_OUTPUT_NODES = 1\n",
    "NUM_LAYERS = 2\n",
    "BIDIRECTION = True\n",
    "DROPOUT = 0.1"
   ]
  },
  {
   "cell_type": "code",
   "execution_count": 13,
   "id": "79e01a46",
   "metadata": {},
   "outputs": [],
   "source": [
    "model = LSTMNet(SIZE_OF_VOCAB,\n",
    "                EMBEDDING_DIM,\n",
    "                NUM_HIDDEN_NODES,\n",
    "                NUM_OUTPUT_NODES,\n",
    "                NUM_LAYERS,\n",
    "                BIDIRECTION,\n",
    "                DROPOUT\n",
    "               )"
   ]
  },
  {
   "cell_type": "code",
   "execution_count": 14,
   "id": "f5235eb3",
   "metadata": {},
   "outputs": [],
   "source": [
    "import torch.optim as optim\n",
    "model = model.to(device)\n",
    "optimizer = optim.Adam(model.parameters(),lr=1e-4)\n",
    "criterion = nn.BCELoss()\n",
    "criterion = criterion.to(device)"
   ]
  },
  {
   "cell_type": "code",
   "execution_count": 15,
   "id": "bd1406ad",
   "metadata": {},
   "outputs": [],
   "source": [
    "def binary_accuracy(preds, y):\n",
    "    #round predictions to the closest integer\n",
    "    rounded_preds = torch.round(preds)\n",
    "    \n",
    "    correct = (rounded_preds == y).float() \n",
    "    acc = correct.sum() / len(correct)\n",
    "    return acc"
   ]
  },
  {
   "cell_type": "code",
   "execution_count": 16,
   "id": "79f86a03",
   "metadata": {},
   "outputs": [],
   "source": [
    "def train(model,iterator,optimizer,criterion):\n",
    "    \n",
    "    epoch_loss = 0.0\n",
    "    epoch_acc = 0.0\n",
    "    \n",
    "    model.train()\n",
    "    \n",
    "    for batch in iterator:\n",
    "        \n",
    "        # cleaning the cache of optimizer\n",
    "        optimizer.zero_grad()\n",
    "        \n",
    "        text,text_lengths = batch.text\n",
    "        \n",
    "        # forward propagation and squeezing\n",
    "        predictions = model(text,text_lengths).squeeze()\n",
    "        \n",
    "        # computing loss / backward propagation\n",
    "        loss = criterion(predictions,batch.type)\n",
    "        loss.backward()\n",
    "        \n",
    "        # accuracy\n",
    "        acc = binary_accuracy(predictions,batch.type)\n",
    "        \n",
    "        # updating params\n",
    "        optimizer.step()\n",
    "        \n",
    "        epoch_loss += loss.item()\n",
    "        epoch_acc += acc.item()\n",
    "        \n",
    "    # It'll return the means of loss and accuracy\n",
    "    return epoch_loss / len(iterator), epoch_acc / len(iterator)\n",
    "        "
   ]
  },
  {
   "cell_type": "code",
   "execution_count": 17,
   "id": "3f6898cd",
   "metadata": {},
   "outputs": [],
   "source": [
    "def evaluate(model,iterator,criterion):\n",
    "    \n",
    "    epoch_loss = 0.0\n",
    "    epoch_acc = 0.0\n",
    "    \n",
    "    # deactivate the dropouts\n",
    "    model.eval()\n",
    "    \n",
    "    # Sets require_grad flat False\n",
    "    with torch.no_grad():\n",
    "        for batch in iterator:\n",
    "            text,text_lengths = batch.text\n",
    "            \n",
    "            predictions = model(text,text_lengths).squeeze()\n",
    "              \n",
    "            #compute loss and accuracy\n",
    "            loss = criterion(predictions, batch.type)\n",
    "            acc = binary_accuracy(predictions, batch.type)\n",
    "            \n",
    "            #keep track of loss and accuracy\n",
    "            epoch_loss += loss.item()\n",
    "            epoch_acc += acc.item()\n",
    "        \n",
    "    return epoch_loss / len(iterator), epoch_acc / len(iterator)"
   ]
  },
  {
   "cell_type": "code",
   "execution_count": 18,
   "id": "2f93e785",
   "metadata": {},
   "outputs": [
    {
     "name": "stdout",
     "output_type": "stream",
     "text": [
      "\tTrain Loss: 0.757 | Train Acc: 32.77%\n",
      "\t Val. Loss: 0.663 |  Val. Acc: 87.62%\n",
      "\n",
      "\tTrain Loss: 0.602 | Train Acc: 85.39%\n",
      "\t Val. Loss: 0.533 |  Val. Acc: 88.19%\n",
      "\n",
      "\tTrain Loss: 0.517 | Train Acc: 85.87%\n",
      "\t Val. Loss: 0.466 |  Val. Acc: 88.03%\n",
      "\n",
      "\tTrain Loss: 0.472 | Train Acc: 85.94%\n",
      "\t Val. Loss: 0.428 |  Val. Acc: 87.89%\n",
      "\n",
      "\tTrain Loss: 0.447 | Train Acc: 85.80%\n",
      "\t Val. Loss: 0.411 |  Val. Acc: 87.76%\n",
      "\n",
      "\tTrain Loss: 0.432 | Train Acc: 85.49%\n",
      "\t Val. Loss: 0.400 |  Val. Acc: 87.62%\n",
      "\n",
      "\tTrain Loss: 0.429 | Train Acc: 85.13%\n",
      "\t Val. Loss: 0.394 |  Val. Acc: 87.34%\n",
      "\n",
      "\tTrain Loss: 0.425 | Train Acc: 85.37%\n",
      "\t Val. Loss: 0.388 |  Val. Acc: 87.98%\n",
      "\n",
      "\tTrain Loss: 0.422 | Train Acc: 85.39%\n",
      "\t Val. Loss: 0.390 |  Val. Acc: 87.62%\n",
      "\n",
      "\tTrain Loss: 0.426 | Train Acc: 85.32%\n",
      "\t Val. Loss: 0.387 |  Val. Acc: 87.25%\n",
      "\n",
      "\tTrain Loss: 0.417 | Train Acc: 85.35%\n",
      "\t Val. Loss: 0.385 |  Val. Acc: 87.62%\n",
      "\n",
      "\tTrain Loss: 0.413 | Train Acc: 85.20%\n",
      "\t Val. Loss: 0.387 |  Val. Acc: 87.41%\n",
      "\n",
      "\tTrain Loss: 0.413 | Train Acc: 85.18%\n",
      "\t Val. Loss: 0.386 |  Val. Acc: 87.41%\n",
      "\n",
      "\tTrain Loss: 0.417 | Train Acc: 85.30%\n",
      "\t Val. Loss: 0.388 |  Val. Acc: 87.48%\n",
      "\n",
      "\tTrain Loss: 0.417 | Train Acc: 85.27%\n",
      "\t Val. Loss: 0.380 |  Val. Acc: 87.62%\n",
      "\n"
     ]
    }
   ],
   "source": [
    "EPOCH_NUMBER = 15\n",
    "for epoch in range(1,EPOCH_NUMBER+1):\n",
    "    \n",
    "    train_loss,train_acc = train(model,train_iterator,optimizer,criterion)\n",
    "    \n",
    "    valid_loss,valid_acc = evaluate(model,validation_iterator,criterion)\n",
    "    \n",
    "    # Showing statistics\n",
    "    print(f'\\tTrain Loss: {train_loss:.3f} | Train Acc: {train_acc*100:.2f}%')\n",
    "    print(f'\\t Val. Loss: {valid_loss:.3f} |  Val. Acc: {valid_acc*100:.2f}%')\n",
    "    print()"
   ]
  }
 ],
 "metadata": {
  "kernelspec": {
   "display_name": "Python 3 (ipykernel)",
   "language": "python",
   "name": "python3"
  },
  "language_info": {
   "codemirror_mode": {
    "name": "ipython",
    "version": 3
   },
   "file_extension": ".py",
   "mimetype": "text/x-python",
   "name": "python",
   "nbconvert_exporter": "python",
   "pygments_lexer": "ipython3",
   "version": "3.9.13"
  }
 },
 "nbformat": 4,
 "nbformat_minor": 5
}
